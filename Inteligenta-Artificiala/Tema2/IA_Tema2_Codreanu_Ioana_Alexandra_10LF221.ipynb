{
 "cells": [
  {
   "cell_type": "markdown",
   "id": "e0be6dae",
   "metadata": {},
   "source": [
    "#  Tema 2 \n",
    "\n",
    "## Termen de predare: 25 octombrie 2023, ora 20:00.\n",
    "Timp de lucru: 1 săptămână"
   ]
  },
  {
   "cell_type": "markdown",
   "id": "003a41ae",
   "metadata": {},
   "source": [
    "## Precizări\n",
    "\n",
    "1. Se vor folosi **type annotations** pentru variabile, parametri tuturor funcțiilor, tipuri de retur. Se vor folosi **docstrings** pentru toate funcțiile. Neîndeplinirea acestei cerințe duce la **înjumătățirea punctajului** pentru exercițiul în cauză. \n",
    "1. Înainte de a trimite tema, verificați acoperirea cerințelor. \n",
    "1. Notebook-ul trebuie să ruleze complet, de sus în jos ``(kernel-> Run All)``. Orice execție oprită duce la punctarea temei până în punctul respectiv.\n"
   ]
  },
  {
   "cell_type": "markdown",
   "id": "ec9f8041",
   "metadata": {},
   "source": [
    "## Conținut\n",
    "\n",
    "1. Exercitii cu functii\n",
    "1. Exercitii cu NumPy"
   ]
  },
  {
   "cell_type": "code",
   "execution_count": 2,
   "id": "81608ee6",
   "metadata": {},
   "outputs": [],
   "source": [
    "import math\n",
    "import numpy as np"
   ]
  },
  {
   "cell_type": "markdown",
   "id": "795997bf",
   "metadata": {},
   "source": [
    "## Execiții cu funcții:\n"
   ]
  },
  {
   "cell_type": "markdown",
   "id": "35e71d74",
   "metadata": {},
   "source": [
    " (1p) 1.Să se scrie o funcție care calculează suma cuburilor primelor n numere, n dat ca input, folosind List comprehension."
   ]
  },
  {
   "cell_type": "code",
   "execution_count": 81,
   "id": "5b7d1e31",
   "metadata": {},
   "outputs": [
    {
     "name": "stdout",
     "output_type": "stream",
     "text": [
      "100\n"
     ]
    }
   ],
   "source": [
    "def sum_of_first_n_cubes(n:int)->int :\n",
    "    \"\"\"\n",
    "    This function returns the sum of the cubes of the first 'n' natural numbers, n being given as input.\n",
    "    Function returns an int value.\n",
    "    \"\"\"\n",
    "    return sum([number**3 for number in range(0,n)])\n",
    "\n",
    "n=input(\"n=\")\n",
    "print(sum_of_first_n_cubes(int(n)))"
   ]
  },
  {
   "cell_type": "markdown",
   "id": "7e42091c",
   "metadata": {},
   "source": [
    "(1p) 2. Scrieți o funcție care duplicatele din secvențe.\n",
    "\n",
    "Exemplu: ['a','a','a','a','b','c','c','a','a','d','e','e','e','e'] => ['a','b','c','a','d','e']"
   ]
  },
  {
   "cell_type": "code",
   "execution_count": 5,
   "id": "40aff54f",
   "metadata": {},
   "outputs": [
    {
     "name": "stdout",
     "output_type": "stream",
     "text": [
      "['a', 'b', 'c', 'a', 'd', 'e']\n"
     ]
    }
   ],
   "source": [
    "def remove_duplicates(sequence:list)->list :\n",
    "    \"\"\"\n",
    "    This function removes the duplicate values in a list.\n",
    "    It returns a list.\n",
    "    \"\"\"\n",
    "    return [sequence[i] for i in range(len(sequence)) if i==0 or sequence[i] != sequence[i-1]]\n",
    "\n",
    "print(remove_duplicates(['a','a','a','a','b','c','c','a','a','d','e','e','e','e']))"
   ]
  },
  {
   "cell_type": "markdown",
   "id": "6a868f43",
   "metadata": {},
   "source": [
    "(1p) 3. Definiți o funcție care primește ca parametru o propoziție (string sau listă). Să se returneze un tuplu ce indică numărul de cuvinte cu diftongi , numărul de cuvinte cu triftongi și numărul de cifre din parametrul primit. Verificați dacă suma celor 3 valori formează un număr palindrom.\n",
    "\n",
    "Penru ușurința exercițiului, vom considera:\n",
    "\n",
    "Diftong = 2 vocale alăturate\n",
    "\n",
    "Triftong = 3 vocale alăturate\n",
    "\n",
    "În realitate ([link](https://www.gimnaziu.info/diftongul-triftongul-hiatul))\n",
    "Diftong = grup de sunete format din 1 vocală și o semivocală, pronunțate în aceeași silabă.\n",
    "\n",
    "Triftong = grup de sunete format din 1 vocală și 2 semivocale, pronunțate în aceeași silabă\n",
    "\n",
    "\n",
    "exemplu:\n",
    "diftongi: iar-nă; broas-că; deal; soa-re; pia-tră, mai; grâu; ca-doum câi-ne; vrei.\n",
    "\n",
    "triftongi:\n",
    "leoar-că, pleoa-pă, ve-deau, iau, zme-oaica, in-do-iau, miei, piei"
   ]
  },
  {
   "cell_type": "code",
   "execution_count": 10,
   "id": "1a7d4d20",
   "metadata": {},
   "outputs": [
    {
     "name": "stdout",
     "output_type": "stream",
     "text": [
      "(3, 1, 9)\n",
      "Tuple is palindrome: False\n"
     ]
    }
   ],
   "source": [
    "def check_palindrom(number:int)->bool :\n",
    "    \"\"\"\n",
    "    This function checks if a number is a palindrome.\n",
    "    It returns a boolean value.\n",
    "    \"\"\"\n",
    "    return int(str(number)[::-1]) == number\n",
    "\n",
    "def dift_trift_num_digits(sentence:str)->tuple :\n",
    "    \"\"\"\n",
    "    This function processes a sentence and returns the number of words that contain a diftong, a triftong and the number of digits.\n",
    "    It returns a tuple with the 3 values.\n",
    "    \"\"\"\n",
    "    sentence=sentence.split()\n",
    "    vowels='aeiouAEIOU'\n",
    "    num_dift:int = len([word for word in sentence for i in range(len(word) - 1) if word[i] in vowels and word[i + 1] in vowels])\n",
    "    num_trift:int = len([word for word in sentence if len(word) >= 3 for i in range(len(word) - 2) if word[i] in vowels and word[i + 1] in vowels and word[i + 2] in vowels])\n",
    "    num_digits:int = sum([len(str(word)) for word in sentence if word.isnumeric()])\n",
    "    return (num_dift-2*num_trift,num_trift,num_digits)\n",
    "    \n",
    "#dift: 3, trift: 1, cifre: 9\n",
    "sentence=\"Ana are 27 borcane de miere si 3 piersici. Ea este femeie. 245 53 0 \"\n",
    "print(dift_trift_num_digits(sentence))\n",
    "print(\"Tuple is palindrome:\",check_palindrom(sum((dift_trift_num_digits(sentence)))))\n",
    "\n"
   ]
  },
  {
   "cell_type": "markdown",
   "id": "7e116648",
   "metadata": {},
   "source": [
    "(1p) 4. Să se scrie o funcție recursivă `suma_cifre_impare` care calculează suma cifrelor impare ale unui număr. Într-o altă funcție `black_hole` se apelează în mod repetat `suma_cifre_impare` pe numărul rezultat, până când se atinge un număr maxim de iterații (implicit 10) sau se ajunge la numărul 1000. Puteți crea alte  functii auxiliare. "
   ]
  },
  {
   "cell_type": "code",
   "execution_count": 84,
   "id": "8e069604",
   "metadata": {},
   "outputs": [
    {
     "name": "stdout",
     "output_type": "stream",
     "text": [
      "5\n",
      "10\n"
     ]
    }
   ],
   "source": [
    "def suma_cifre_impare(number:int)->int :\n",
    "    \"\"\"\n",
    "    This recursive function returns the sum of the odd digits of a number given as input.\n",
    "    It returns an integer value.\n",
    "    \"\"\"\n",
    "    if number < 10 and number%2 != 0 :\n",
    "        return number\n",
    "    if number%10%2 != 0 :\n",
    "        return number%10+suma_cifre_impare(number//10)\n",
    "    else : return suma_cifre_impare(number//10)\n",
    "\n",
    "def black_hole(number:int)->int :\n",
    "    \"\"\"\n",
    "    This function calls for the function suma_cifre_impare on a number given as input 10 times (max_iterations) or until the number value reaches 1000.\n",
    "    It returns an integer value.\n",
    "    \"\"\"\n",
    "    no_iterations = 0\n",
    "    max_iterations = 10\n",
    "    while number != 1000 and no_iterations < 10 :\n",
    "        number=suma_cifre_impare(number)\n",
    "        no_iterations+=1\n",
    "    if(no_iterations == max_iterations) :\n",
    "        return no_iterations\n",
    "    else : return number\n",
    "\n",
    "number=input(\"number=\")\n",
    "print(suma_cifre_impare(int(number)))\n",
    "print(black_hole(int(number)))"
   ]
  },
  {
   "cell_type": "markdown",
   "id": "52b5d98e",
   "metadata": {},
   "source": [
    "## Probleme NumPy"
   ]
  },
  {
   "cell_type": "markdown",
   "id": "0ae82add",
   "metadata": {},
   "source": [
    "(1 p) 1. Se dă un vector NumPy. Să se determine lista elementelor pătrate perfecte. Formați o matrice pătratică de dimensiune  `len(v)/2` care să conțină elementele pătrate perfecte din vector.\n",
    "Completați pozițiile din matrice rămase libere cu cmmmc al rădăcinilor elementelor pătrate perfecte .  "
   ]
  },
  {
   "cell_type": "code",
   "execution_count": 85,
   "id": "5cc38c20",
   "metadata": {},
   "outputs": [
    {
     "name": "stdout",
     "output_type": "stream",
     "text": [
      "[[  1   4   9]\n",
      " [ 16  25  36]\n",
      " [ 49 420 420]]\n"
     ]
    }
   ],
   "source": [
    "def cmmmc(number1:int, number2:int)->int:\n",
    "    \"\"\"\n",
    "    This function find the lowest common multiple of 2 numbers given as input.\n",
    "    It returns an integer value.\n",
    "    \"\"\"\n",
    "    if number1 > number2  :\n",
    "        maxim:int=number1\n",
    "    else : maxim:int=number2\n",
    "    for i in range(maxim,number1*number2+1) :\n",
    "        if i%number1 == 0 and i%number2==0 :\n",
    "            return i\n",
    "        \n",
    "def cmmmc_list(vector:list)-> int:\n",
    "    \"\"\"\n",
    "    This function find the lowest common multiple of all the numbers in a list given as an input.\n",
    "    It returns an integer value.\n",
    "    \"\"\"\n",
    "    lowest_multiple:int=cmmmc(vector[0],vector[1])\n",
    "    for i in range(2,len(vector)) :\n",
    "        lowest_multiple:int=cmmmc(lowest_multiple,vector[i])\n",
    "    return lowest_multiple\n",
    "\n",
    "vector = np.array([1,2,3,4,9,11,13,16,25,36,50,102,49])\n",
    "perfect_squares:list = [number for number in vector if math.sqrt(number) == int(math.sqrt(number))]\n",
    "roots:list=[int(math.sqrt(number)) for number in perfect_squares]\n",
    "lowest_multiple_roots:int = cmmmc_list(roots)\n",
    "\n",
    "dim_matrix = len(perfect_squares)//2\n",
    "matrix=np.zeros((dim_matrix,dim_matrix), dtype=int)\n",
    "\n",
    "for i in range(dim_matrix):\n",
    "    for j in range(dim_matrix):\n",
    "        if perfect_squares:\n",
    "            matrix[i, j] = perfect_squares.pop(0)\n",
    "\n",
    "for i in range(dim_matrix) :\n",
    "    for j in range(dim_matrix) :\n",
    "        if matrix[i,j]==0 :\n",
    "            matrix[i,j]=lowest_multiple_roots  \n",
    "\n",
    "print(matrix)\n"
   ]
  },
  {
   "cell_type": "markdown",
   "id": "72ce9765",
   "metadata": {},
   "source": [
    "(1.5 p) 2. Se dau punctele de forma $A_n(5n, 8n+1)$. \n",
    "\n",
    "a) Calculați distanța euclidiană dintre perechile de puncte $A_{n-1}$, $A_n$, n=1...6. <br>\n",
    "$$\n",
    " d\\left( p,q\\right)   = \\sqrt {\\sum _{i=1}^{n}  \\left( q_{i}-p_{i}\\right)^2 } \n",
    "$$\n",
    "\n",
    "b) Verificați dacă punctele $A_6, A_2, A_8$ sunt coliniare. <br>\n",
    "c) Aria triunghiului determinat de punctele $A_3, A_4, A_5$\n",
    "    \n",
    "   **Indicație**: Puteți folosi noțiunea de determinant.\n",
    "\n",
    "$$\\displaystyle \\det(M)={\\begin{vmatrix}a_{11}&a_{12}&a_{13}\\\\a_{21}&a_{22}&a_{23}\\\\a_{31}&a_{32}&a_{33}\\end{vmatrix}}=a_{11}a_{22}a_{33}+a_{12}a_{23}a_{31}+a_{13}a_{21}a_{32}-a_{31}a_{22}a_{13}-a_{32}a_{23}a_{11}-a_{33}a_{21}a_{12}.$$\n",
    "\n",
    "$A(x_A, y_A), B(x_B, Y_B) , C(x_C,y_c)$ \n",
    "\n",
    "sunt coliniare, atunci: $$\\begin{vmatrix}x_ A& y_A & 1\\\\\n",
    "x_B & y_B & 1\\\\\n",
    "x_C & y_C & 1\n",
    "\\end{vmatrix}=0$$\n",
    "\n",
    "\n",
    "Python: points: np.array $\\implies$ `np.linalg.det(points)` Mai multe informații, la [link](https://www.geeksforgeeks.org/numpy-linalg-det-method-in-python/)\n",
    "\n",
    "\n"
   ]
  },
  {
   "cell_type": "code",
   "execution_count": 8,
   "id": "e350d3c2",
   "metadata": {},
   "outputs": [
    {
     "name": "stdout",
     "output_type": "stream",
     "text": [
      "A)\n",
      "d(A 0 ,A 1 )= 9.43\n",
      "d(A 1 ,A 2 )= 9.43\n",
      "d(A 2 ,A 3 )= 9.43\n",
      "d(A 3 ,A 4 )= 9.43\n",
      "d(A 4 ,A 5 )= 9.43\n",
      "\n",
      "\n",
      "B)\n",
      "[[30 49  1]\n",
      " [10 17  1]\n",
      " [40 65  1]]\n",
      "Punctele A6, A2 si A8 sunt coliniare.\n",
      "\n",
      "\n",
      "C)\n",
      "[[15 25  1]\n",
      " [20 33  1]\n",
      " [25 41  1]]\n",
      "Surface of triangle= 1.1046719095020293e-14\n"
     ]
    }
   ],
   "source": [
    "def euclidean_distance(point_A:tuple, point_B:tuple)->float:\n",
    "    \"\"\"\n",
    "    This function recieves as input 2 points (tuple of 2 coordonates each).\n",
    "    It returns a float value representing the euclidian distance between the two points.\n",
    "    The euclidian distance is calculated via the following formula:\n",
    "\n",
    "        euclidean_distance = sqrt((point_B[1] - point_A[1])**2 + (point_B[0] - point_A[0])**2)\n",
    "    \"\"\"\n",
    "    return math.sqrt((point_B[1]-point_A[1])**2 + (point_B[0]-point_A[0])**2)\n",
    "\n",
    "############################################################################################\n",
    "\n",
    "print(\"A)\")\n",
    "#n=input(\"n=\")\n",
    "for index in range(1,6) :\n",
    "    point_A:tuple=(5*index,8*index+1)\n",
    "    point_B:tuple=(5*(index-1),8*(index-1)+1)\n",
    "    print(\"d(A\",index-1,\",A\",index,\")=\",round(euclidean_distance(point_A,point_B),2))\n",
    "print(\"\\n\")    \n",
    "\n",
    "############################################################################################\n",
    "\n",
    "print(\"B)\")\n",
    "\n",
    "point_A6=(5*6,8*6+1)\n",
    "point_A2=(5*2,8*2+1)\n",
    "point_A8=(5*8,8*8+1)\n",
    "\n",
    "matrix=np.zeros((3,3),dtype=int)\n",
    "\n",
    "matrix[0][0]=point_A6[0]\n",
    "matrix[0][1]=point_A6[1]\n",
    "matrix[0][2]=1\n",
    "matrix[1][0]=point_A2[0]\n",
    "matrix[1][1]=point_A2[1]\n",
    "matrix[1][2]=1\n",
    "matrix[2][0]=point_A8[0]\n",
    "matrix[2][1]=point_A8[1]\n",
    "matrix[2][2]=1\n",
    "\n",
    "print(matrix)\n",
    "if(int(np.linalg.det(matrix))==0) :\n",
    "    print(\"Punctele A6, A2 si A8 sunt coliniare.\")\n",
    "else : print(\"Punctele A6, A2 si A8 nu sunt coliniare.\")\n",
    "print(\"\\n\")\n",
    "\n",
    "############################################################################################\n",
    "\n",
    "print(\"C)\")\n",
    "\n",
    "point_A3=(5*3,8*3+1)\n",
    "point_A4=(5*4,8*4+1)\n",
    "point_A5=(5*5,8*5+1)\n",
    "\n",
    "matrix_triangle=np.zeros((3,3),dtype=int)\n",
    "\n",
    "matrix_triangle[0][0]=point_A3[0]\n",
    "matrix_triangle[0][1]=point_A3[1]\n",
    "matrix_triangle[0][2]=1\n",
    "matrix_triangle[1][0]=point_A4[0]\n",
    "matrix_triangle[1][1]=point_A4[1]\n",
    "matrix_triangle[1][2]=1\n",
    "matrix_triangle[2][0]=point_A5[0]\n",
    "matrix_triangle[2][1]=point_A5[1]\n",
    "matrix_triangle[2][2]=1\n",
    "\n",
    "print(matrix_triangle)\n",
    "\n",
    "print(\"Surface of triangle=\",(np.linalg.det(matrix_triangle)/2))\n",
    "if(int(np.linalg.det(matrix_triangle))/2 < 0) :\n",
    "    print(\"Triunghiul este inversat.\")"
   ]
  },
  {
   "cell_type": "markdown",
   "id": "12d26223",
   "metadata": {},
   "source": [
    "(1p) 3. Pentru o matrice de numere să se determine suma dintre cmmmdc si cmmmc al pătratelor sau cuburilor elementelor de pe linii sau de pe coloane, în funcție de valoarea unor parametri:\n",
    " + de tip boolean `compute_on_columns` \n",
    " + de tip int `power` = 2 sau 3"
   ]
  },
  {
   "cell_type": "code",
   "execution_count": 87,
   "id": "4865a3be",
   "metadata": {},
   "outputs": [
    {
     "name": "stdout",
     "output_type": "stream",
     "text": [
      "3978\n"
     ]
    }
   ],
   "source": [
    "\n",
    "def sum_hcm_or_lcm_matrix(matrix:np.matrix,compute_on_columns:bool, power:int)->int :\n",
    "    \"\"\"\n",
    "    This function returns the sum of the highest common multiple and lowest common multiple of the perfect squares\n",
    "    or cubes on a matrix line or collumn. \n",
    "    It takes 2 parameters, a bool which determines wether the values will be taken from a row or a collumn and an\n",
    "    integer which determines whether the highest common multiple and lowest common multiple will be calculated\n",
    "    from the perfect squares of the elements or the perfect cubes.\n",
    "    It returns an integer.\n",
    "    \"\"\"\n",
    "    power_matrix = matrix**power\n",
    "\n",
    "    if compute_on_columns:\n",
    "        highest_divisor = np.gcd.reduce(power_matrix, axis=0)\n",
    "        lowest_multiple = np.lcm.reduce(power_matrix, axis=0)\n",
    "        \n",
    "    else:\n",
    "        highest_divisor = np.gcd.reduce(power_matrix, axis=1)\n",
    "        lowest_multiple = np.lcm.reduce(power_matrix, axis=1)\n",
    "    return int(np.sum(highest_divisor) + np.sum(lowest_multiple))\n",
    "\n",
    "            \n",
    "test_matrix = np.array([[2, 4, 6],   # cmmdc = 4, cmmmc = 144 (rows)\n",
    "                       [3, 9, 12],   # cmmdc = 9 , cmmmc = 1296 (rows)\n",
    "                       [5, 25, 10]]) # cmmdc = 25, cmmc = 2500 (rows)\n",
    "print(sum_hcm_or_lcm_matrix(test_matrix,False,2))"
   ]
  },
  {
   "cell_type": "markdown",
   "id": "836e41e9",
   "metadata": {},
   "source": [
    "(1p) 4. Pentru un număr introdus de la tastaură, generați o matrice pătratică cu elemente aleatorii din intervalul `[0,2n]`. Returnați un tuplu cu numerele formate din elementele de pe \n",
    "diagonala principală a matricei și cele de pe diagonala secundară a matricei. Verificați dacă acestea sunt palindroame."
   ]
  },
  {
   "cell_type": "code",
   "execution_count": 88,
   "id": "a44381ff",
   "metadata": {},
   "outputs": [
    {
     "name": "stdout",
     "output_type": "stream",
     "text": [
      "[[146 101 130  69 398]\n",
      " [  5  62 383 365 158]\n",
      " [396 249 265 214 324]\n",
      " [394 223  44 372 309]\n",
      " [149 126 117 395  32]]\n",
      "(146, 62, 265, 372, 32, 398, 365, 265, 223, 149)\n",
      "Niciun element de pe una din diagonale este palindrom.\n"
     ]
    }
   ],
   "source": [
    "def generate_matrix(number:int, size:int)->matrix :\n",
    "    \"\"\"\n",
    "    This function generates a square matrix (with size given as input) with random elements in range (0,2*n), where n is an integer given as input.\n",
    "    It returns a matrix.\n",
    "    \"\"\"\n",
    "    return np.random.randint(low=0, high=2*number, size=(size,size), dtype=int) \n",
    "\n",
    "def matrix_diags(matrix:matrix)->tuple :\n",
    "    \"\"\"\n",
    "    This function returns the elements situated on the diagonals of a square matrix.\n",
    "    It returns a tuple.\n",
    "    \"\"\"\n",
    "    principal_diag_elements=[matrix[i][i] for i in range (0,len(matrix))]\n",
    "    secondary_diag_elements=[matrix[i][len(matrix)-i-1] for i in range (0,len(matrix))]\n",
    "    return tuple(principal_diag_elements + secondary_diag_elements)  \n",
    "\n",
    "def check_palindrom_tuple(elements:tuple)->bool :\n",
    "    \"\"\"\n",
    "    This function checks if any element of the tuple is a palindrome.\n",
    "    It returns a bool.\n",
    "    The function called inside (\"check_palindrom(element)\") was defined at ex 3 in the first part of the homework.\n",
    "    \"\"\"\n",
    "    for element in elements :\n",
    "        if check_palindrom(element) == True :\n",
    "            return True\n",
    "    return False\n",
    "\n",
    "n:int=input(\"Range=\")\n",
    "size:int=input(\"Size of matrix=\")\n",
    "matrix=generate_matrix(int(n),int(size))\n",
    "print(matrix)\n",
    "print(matrix_diags(matrix))\n",
    "if check_palindrom_tuple(matrix_diags(matrix)) == True :\n",
    "    print(\"Cel putin un element de pe una din diagonale este palindrom.\")\n",
    "else :  \n",
    "    print(\"Niciun element de pe una din diagonale este palindrom.\")"
   ]
  },
  {
   "cell_type": "markdown",
   "id": "28d41c8f",
   "metadata": {},
   "source": [
    "(1.5p) 5. Descarcati setul de date Iris de la adresa 'https://archive.ics.uci.edu/ml/machine-learning-databases/iris/iris.data', si incarcati-l intr-o matrice NumPy, folosind `np.genfromtxt`.  Alegeti aleator 10 pozitii in matricea de 150 linii si 4 coloane (omiteti ultima coloana, de tip text), setati aceste valori pe NaN. Construiti o functie care, primind la intrare o matrice, returneaza un tuplu cu indicii de linii respectiv de coloane in care se gasesc valori NaN."
   ]
  },
  {
   "cell_type": "code",
   "execution_count": 89,
   "id": "8709b967",
   "metadata": {},
   "outputs": [
    {
     "name": "stdout",
     "output_type": "stream",
     "text": [
      "[[5.1 3.5 1.4 0.2]\n",
      " [4.9 3.  1.4 0.2]\n",
      " [4.7 3.2 1.3 0.2]\n",
      " [nan 3.1 1.5 0.2]\n",
      " [5.  3.6 1.4 0.2]\n",
      " [5.4 3.9 1.7 0.4]\n",
      " [4.6 3.4 1.4 0.3]\n",
      " [5.  3.4 1.5 0.2]\n",
      " [4.4 2.9 1.4 0.2]\n",
      " [4.9 3.1 1.5 0.1]\n",
      " [5.4 3.7 1.5 0.2]\n",
      " [4.8 3.4 1.6 0.2]\n",
      " [4.8 3.  1.4 0.1]\n",
      " [4.3 3.  1.1 0.1]\n",
      " [5.8 4.  1.2 0.2]\n",
      " [5.7 4.4 1.5 0.4]\n",
      " [5.4 3.9 1.3 0.4]\n",
      " [5.1 3.5 1.4 0.3]\n",
      " [5.7 3.8 1.7 0.3]\n",
      " [5.1 3.8 1.5 0.3]\n",
      " [5.4 3.4 1.7 0.2]\n",
      " [5.1 3.7 1.5 0.4]\n",
      " [4.6 3.6 1.  0.2]\n",
      " [5.1 3.3 nan 0.5]\n",
      " [nan 3.4 1.9 0.2]\n",
      " [5.  3.  1.6 0.2]\n",
      " [5.  3.4 1.6 0.4]\n",
      " [5.2 3.5 1.5 0.2]\n",
      " [5.2 3.4 1.4 0.2]\n",
      " [4.7 3.2 1.6 0.2]\n",
      " [4.8 3.1 1.6 0.2]\n",
      " [5.4 3.4 1.5 0.4]\n",
      " [5.2 4.1 1.5 0.1]\n",
      " [5.5 4.2 1.4 0.2]\n",
      " [4.9 3.1 1.5 0.1]\n",
      " [5.  3.2 1.2 0.2]\n",
      " [5.5 3.5 1.3 0.2]\n",
      " [4.9 nan 1.5 0.1]\n",
      " [4.4 3.  1.3 0.2]\n",
      " [5.1 3.4 1.5 0.2]\n",
      " [5.  3.5 1.3 0.3]\n",
      " [4.5 2.3 1.3 0.3]\n",
      " [4.4 3.2 1.3 0.2]\n",
      " [5.  3.5 1.6 0.6]\n",
      " [5.1 3.8 1.9 0.4]\n",
      " [4.8 3.  nan 0.3]\n",
      " [nan 3.8 1.6 0.2]\n",
      " [4.6 3.2 1.4 0.2]\n",
      " [5.3 3.7 1.5 0.2]\n",
      " [5.  3.3 1.4 0.2]\n",
      " [7.  3.2 4.7 1.4]\n",
      " [6.4 3.2 4.5 1.5]\n",
      " [6.9 3.1 4.9 1.5]\n",
      " [5.5 2.3 4.  1.3]\n",
      " [6.5 2.8 4.6 1.5]\n",
      " [5.7 2.8 nan 1.3]\n",
      " [6.3 3.3 4.7 1.6]\n",
      " [4.9 2.4 3.3 1. ]\n",
      " [6.6 2.9 4.6 1.3]\n",
      " [5.2 2.7 3.9 1.4]\n",
      " [5.  2.  3.5 1. ]\n",
      " [5.9 3.  4.2 1.5]\n",
      " [6.  2.2 4.  1. ]\n",
      " [6.1 2.9 4.7 1.4]\n",
      " [5.6 2.9 3.6 1.3]\n",
      " [6.7 3.1 4.4 1.4]\n",
      " [5.6 3.  4.5 1.5]\n",
      " [5.8 2.7 4.1 1. ]\n",
      " [6.2 2.2 4.5 1.5]\n",
      " [5.6 2.5 3.9 1.1]\n",
      " [5.9 3.2 4.8 1.8]\n",
      " [6.1 2.8 4.  1.3]\n",
      " [6.3 2.5 4.9 1.5]\n",
      " [6.1 2.8 4.7 1.2]\n",
      " [6.4 2.9 4.3 1.3]\n",
      " [6.6 3.  4.4 1.4]\n",
      " [6.8 2.8 4.8 1.4]\n",
      " [6.7 3.  5.  1.7]\n",
      " [6.  2.9 4.5 1.5]\n",
      " [5.7 2.6 3.5 1. ]\n",
      " [5.5 2.4 3.8 1.1]\n",
      " [5.5 2.4 3.7 1. ]\n",
      " [5.8 2.7 3.9 1.2]\n",
      " [6.  2.7 5.1 1.6]\n",
      " [5.4 3.  4.5 1.5]\n",
      " [6.  3.4 4.5 1.6]\n",
      " [6.7 3.1 4.7 1.5]\n",
      " [6.3 2.3 4.4 1.3]\n",
      " [5.6 3.  4.1 1.3]\n",
      " [5.5 2.5 4.  1.3]\n",
      " [5.5 2.6 4.4 1.2]\n",
      " [6.1 3.  4.6 1.4]\n",
      " [5.8 2.6 nan 1.2]\n",
      " [5.  2.3 3.3 1. ]\n",
      " [5.6 2.7 4.2 1.3]\n",
      " [5.7 3.  4.2 1.2]\n",
      " [5.7 2.9 4.2 1.3]\n",
      " [6.2 2.9 4.3 1.3]\n",
      " [5.1 2.5 3.  1.1]\n",
      " [5.7 2.8 4.1 1.3]\n",
      " [6.3 3.3 6.  2.5]\n",
      " [5.8 2.7 5.1 1.9]\n",
      " [7.1 3.  5.9 2.1]\n",
      " [6.3 2.9 5.6 1.8]\n",
      " [6.5 3.  5.8 2.2]\n",
      " [7.6 3.  6.6 2.1]\n",
      " [4.9 2.5 4.5 1.7]\n",
      " [7.3 2.9 6.3 1.8]\n",
      " [6.7 2.5 5.8 1.8]\n",
      " [7.2 nan 6.1 2.5]\n",
      " [6.5 3.2 5.1 2. ]\n",
      " [6.4 2.7 5.3 1.9]\n",
      " [6.8 3.  5.5 2.1]\n",
      " [5.7 2.5 5.  2. ]\n",
      " [nan 2.8 5.1 2.4]\n",
      " [6.4 3.2 5.3 2.3]\n",
      " [6.5 3.  5.5 1.8]\n",
      " [7.7 3.8 6.7 2.2]\n",
      " [7.7 2.6 6.9 2.3]\n",
      " [6.  2.2 5.  1.5]\n",
      " [6.9 3.2 5.7 2.3]\n",
      " [5.6 2.8 4.9 2. ]\n",
      " [7.7 2.8 6.7 2. ]\n",
      " [6.3 2.7 4.9 1.8]\n",
      " [6.7 3.3 5.7 2.1]\n",
      " [7.2 3.2 6.  1.8]\n",
      " [6.2 2.8 4.8 1.8]\n",
      " [6.1 3.  4.9 1.8]\n",
      " [6.4 2.8 5.6 2.1]\n",
      " [7.2 3.  5.8 1.6]\n",
      " [7.4 2.8 6.1 1.9]\n",
      " [7.9 3.8 6.4 2. ]\n",
      " [6.4 2.8 5.6 2.2]\n",
      " [6.3 2.8 5.1 1.5]\n",
      " [6.1 2.6 5.6 1.4]\n",
      " [7.7 3.  6.1 2.3]\n",
      " [6.3 3.4 5.6 2.4]\n",
      " [6.4 3.1 5.5 1.8]\n",
      " [6.  3.  4.8 1.8]\n",
      " [6.9 3.1 5.4 2.1]\n",
      " [6.7 3.1 5.6 2.4]\n",
      " [6.9 3.1 5.1 2.3]\n",
      " [5.8 2.7 5.1 1.9]\n",
      " [6.8 3.2 5.9 2.3]\n",
      " [6.7 3.3 5.7 2.5]\n",
      " [6.7 3.  5.2 2.3]\n",
      " [6.3 2.5 5.  1.9]\n",
      " [6.5 3.  5.2 2. ]\n",
      " [6.2 3.4 5.4 2.3]\n",
      " [5.9 3.  5.1 1.8]]\n",
      "((3, 0), (23, 2), (24, 0), (37, 1), (45, 2), (46, 0), (55, 2), (92, 2), (109, 1), (114, 0))\n"
     ]
    }
   ],
   "source": [
    "data = np.genfromtxt(r'C:\\Users\\ELITEBOOK\\Documents\\Facultate\\AI\\iris.txt', delimiter=',', dtype=None, usecols=(0, 1, 2, 3))\n",
    "\n",
    "def generate_matrix_position()->tuple:\n",
    "    \"\"\"\n",
    "    This function will generate a number position in the iris matrix, excluding the last collumn.\n",
    "    It returns a tuple.\n",
    "    \"\"\"\n",
    "    first_element:int=np.random.randint(0, 150)\n",
    "    second_element:int=np.random.randint(0, 3)\n",
    "    return (first_element,second_element)\n",
    "\n",
    "def find_nan_values_matrix(matrix:matrix)->tuple :\n",
    "    \"\"\"\n",
    "    This function will find the elements that are NaN in a matrix given as input.\n",
    "    It returns a tuple containing the indexes of the elements with NaN value.\n",
    "    \"\"\"\n",
    "    indexes = tuple((i,j) for i in range(len(matrix)) for j in range(len(matrix[0])) if np.isnan(matrix[i,j]))\n",
    "    return indexes\n",
    "\n",
    "for value in range(10) :\n",
    "    position=generate_matrix_position()\n",
    "    data[position[0],position[1]]=np.nan\n",
    "print(data)\n",
    "print(find_nan_values_matrix(data))"
   ]
  }
 ],
 "metadata": {
  "kernelspec": {
   "display_name": "Python 3 (ipykernel)",
   "language": "python",
   "name": "python3"
  },
  "language_info": {
   "codemirror_mode": {
    "name": "ipython",
    "version": 3
   },
   "file_extension": ".py",
   "mimetype": "text/x-python",
   "name": "python",
   "nbconvert_exporter": "python",
   "pygments_lexer": "ipython3",
   "version": "3.11.5"
  }
 },
 "nbformat": 4,
 "nbformat_minor": 5
}
