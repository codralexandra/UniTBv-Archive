{
 "cells": [
  {
   "cell_type": "markdown",
   "id": "feac87b4",
   "metadata": {},
   "source": [
    "# Tema 1\n"
   ]
  },
  {
   "cell_type": "markdown",
   "id": "5c91b41d",
   "metadata": {},
   "source": [
    "\n",
    "Timp de lucru: **2 săptămâni**  \n",
    "\n",
    "\n",
    "Data predare: Seara precedentă laboratorului, ora 20 (verificați platforma elearning pentru deadline individualizat pe grupe)   \n",
    "Notebook-ul va fi rulat de sus în jos, complet, toate celulele.\n",
    "\n",
    "În caz de eroare, se punctează sarcinile/celulele rezolvate și rulate fără eroare, până în punctul întreruperii execuției.\n",
    "\n",
    "* Numele temei trebuie să conțină numele  și grupa:  IA_Tema1_grupa_nume_prenume.ipynb"
   ]
  },
  {
   "cell_type": "markdown",
   "id": "a0a3dfbb",
   "metadata": {},
   "source": [
    "## Probleme \n"
   ]
  },
  {
   "cell_type": "markdown",
   "id": "78fe132a",
   "metadata": {},
   "source": [
    "1.(1p) Scrieți un program care primește ca intrare o secvență de cuvinte separate prin virgulă și tipărește cuvintele într-o secvență separată prin virgulă după ce le sortează alfabetic.\n",
    "\n",
    "**Exemplu:**\n",
    "\n",
    "**Input**: caise,mere,banane,ardei,bame,dude,fasole,mango,afine,mazare,rosie,cucuruz,agrise\n",
    "\n",
    "**Output**: afine,agrise,ardei,bame,banane,caise,cucuruz,dude,fasole,mango,mazare,mere,rosie\n"
   ]
  },
  {
   "cell_type": "code",
   "execution_count": 2,
   "id": "3e782617",
   "metadata": {},
   "outputs": [
    {
     "name": "stdout",
     "output_type": "stream",
     "text": [
      "['afine', 'agrise', 'ardei', 'bame', 'banane', 'caise', 'cucuruz', 'dude', 'fasole', 'mango', 'mazare', 'mere', 'rosie']\n"
     ]
    }
   ],
   "source": [
    "input_string =input(\"Introdu string-ul:\")\n",
    "new_string = sorted(input_string.split(','))\n",
    "print(new_string)"
   ]
  },
  {
   "cell_type": "markdown",
   "id": "b34690d8",
   "metadata": {},
   "source": [
    "2. (1p) Scrieți un program care primește la intrare o frază și calculează numărul de litere și de cifre.\n",
    "\n",
    "**Exemplu:**  \n",
    "\n",
    "**Input:** Buna ziua! 34  \n",
    "**Output:**  \n",
    "Litere: 8  \n",
    "Cifre: 2\n"
   ]
  },
  {
   "cell_type": "code",
   "execution_count": 2,
   "id": "f6324636",
   "metadata": {},
   "outputs": [
    {
     "name": "stdout",
     "output_type": "stream",
     "text": [
      "Litere: 8\n",
      "Cifre:  2\n"
     ]
    }
   ],
   "source": [
    "s = input(\"Introduceți o frază: \")\n",
    "\n",
    "litere=0\n",
    "cifre=0\n",
    "for simbol in s :\n",
    "    if simbol.isalpha() :\n",
    "        litere+=1\n",
    "    elif simbol.isnumeric():\n",
    "        cifre+=1\n",
    "print(\"Litere:\",litere)\n",
    "print(\"Cifre: \",cifre)"
   ]
  },
  {
   "cell_type": "markdown",
   "id": "e3df9c05",
   "metadata": {},
   "source": [
    "3. (1p) Scrieți un program, care va găsi toate numerele din intervalul închis [1000, 3000]  (inclusiv captele), formate doar din cifre pare.\n",
    "\n",
    "Numerele obținute trebuie tipărite într-o secvență separată prin virgulă, pe o singură linie.\n"
   ]
  },
  {
   "cell_type": "code",
   "execution_count": 3,
   "id": "31e18a6d",
   "metadata": {},
   "outputs": [
    {
     "name": "stdout",
     "output_type": "stream",
     "text": [
      "2000,2002,2004,2006,2008,2020,2022,2024,2026,2028,2040,2042,2044,2046,2048,2060,2062,2064,2066,2068,2080,2082,2084,2086,2088,2200,2202,2204,2206,2208,2220,2222,2224,2226,2228,2240,2242,2244,2246,2248,2260,2262,2264,2266,2268,2280,2282,2284,2286,2288,2400,2402,2404,2406,2408,2420,2422,2424,2426,2428,2440,2442,2444,2446,2448,2460,2462,2464,2466,2468,2480,2482,2484,2486,2488,2600,2602,2604,2606,2608,2620,2622,2624,2626,2628,2640,2642,2644,2646,2648,2660,2662,2664,2666,2668,2680,2682,2684,2686,2688,2800,2802,2804,2806,2808,2820,2822,2824,2826,2828,2840,2842,2844,2846,2848,2860,2862,2864,2866,2868,2880,2882,2884,2886,2888,"
     ]
    }
   ],
   "source": [
    "for numar in range(1000,3001) :\n",
    "    numar_cifre_pare=True\n",
    "    aux_numar=numar\n",
    "    while aux_numar>0 :\n",
    "       if aux_numar%2!=0 :\n",
    "           numar_cifre_pare=False\n",
    "       aux_numar = aux_numar // 10\n",
    "    if numar_cifre_pare == True:\n",
    "        print(numar,end=',')"
   ]
  },
  {
   "cell_type": "markdown",
   "id": "8040f587",
   "metadata": {},
   "source": [
    "4. (1p) Scrieți un program pentru a calcula frecvența cuvintelor dintr-o secvență dată ca input. \n",
    "Ieșirea va fi un dicționar, cu cheile sortate în mod alfanumeric.\n",
    "\n",
    "**Exemplu:**\n",
    "\n",
    "**Input**: New to Python or choosing between Python 2 and Python 3? Read Python 2 or Python 3.  \n",
    "\n",
    "\n",
    "**Output**:  \n",
    "2:2  \n",
    "3.:1  \n",
    "3?:1  \n",
    "New:1  \n",
    "Python:5  \n",
    "Read:1  \n",
    "and:1  \n",
    "between:1  \n",
    "choosing:1  \n",
    "or:2  \n",
    "to:1  \n"
   ]
  },
  {
   "cell_type": "code",
   "execution_count": 4,
   "id": "0a4dab5c",
   "metadata": {},
   "outputs": [
    {
     "name": "stdout",
     "output_type": "stream",
     "text": [
      "2 : 2\n",
      "3. : 1\n",
      "3? : 1\n",
      "New : 1\n",
      "Python : 5\n",
      "Read : 1\n",
      "and : 1\n",
      "between : 1\n",
      "choosing : 1\n",
      "or : 2\n",
      "to : 1\n"
     ]
    }
   ],
   "source": [
    "frecventa_cuvinte={}\n",
    "string_input = input(\"Introduceti un string de input:\")\n",
    "aux_list = string_input.split()\n",
    "for element in aux_list :\n",
    "    if element in frecventa_cuvinte :\n",
    "        frecventa_cuvinte[element]+=1\n",
    "    else :\n",
    "        frecventa_cuvinte[element] = 1\n",
    "frecventa_cuvinte = dict(sorted(frecventa_cuvinte.items()))\n",
    "for key,value in frecventa_cuvinte.items() :\n",
    "    print(key, \":\", value)"
   ]
  },
  {
   "cell_type": "markdown",
   "id": "e8acbd9d",
   "metadata": {},
   "source": [
    "5.(1p) Într-o fermă avem găini și iepuri, în total C Capete și P Picioare. Căte găini și câti iepuri sunt?\n",
    "\n",
    "**Exemplu:**\n",
    "\n",
    "C = 35 și P= 94 => 23 găini și 12 iepuri"
   ]
  },
  {
   "cell_type": "code",
   "execution_count": 5,
   "id": "83f96c21",
   "metadata": {},
   "outputs": [
    {
     "name": "stdout",
     "output_type": "stream",
     "text": [
      "Gaini: 23\n",
      "Iepuri: 12\n"
     ]
    }
   ],
   "source": [
    "# your code here\n",
    "\n",
    "numheads=int(input(\"Numărul de capete: \"))\n",
    "numlegs=int(input(\"Numărul de picioare: \"))\n",
    "\n",
    "#Ecuatia 1 : gaini + iepuri = numheads\n",
    "#Ecuatia 2 : gaini*2 + iepuri*4 = numlegs\n",
    "#Din E1 => gaini = numheads - iepuri\n",
    "#Inlocuim in E2:\n",
    "#(numheads - iepuri)*2 + iepuri*4 = numlegs\n",
    "#numheads*2 - iepuri*2 + iepuri*4 = numlegs\n",
    "#2*iepuri = numlegs - 2*numheads\n",
    "#iepuri = (numlegs - 2*numheads) // 2\n",
    "#Putem sa aflam usor numarul gainilor prin ecuatia gaini = numheads - iepuri\n",
    "\n",
    "iepuri =  (numlegs-2*numheads) // 2\n",
    "gaini = numheads - iepuri\n",
    "print(\"Gaini:\", gaini)\n",
    "print(\"Iepuri:\",iepuri)"
   ]
  },
  {
   "cell_type": "markdown",
   "id": "11c128d0",
   "metadata": {},
   "source": [
    "6. (2p) Fiind dată o listă de cuvinte:\n",
    "    1. Înlocuiți consoanele cu '*'.\n",
    "    2. Determinați cuvintele cu cele mai multe vocale.\n",
    "    3. Înlocuiți consoanele cu a treia literă a cuvântului. Cuvintele de 1 sau 2 litere vor fi înlocuite cu prima literă.\n",
    "    4. Determinați cuvintele ce conțin cel puțin 3 litere comune cu un cuvânt dat. "
   ]
  },
  {
   "cell_type": "code",
   "execution_count": 6,
   "id": "b6396792",
   "metadata": {},
   "outputs": [
    {
     "name": "stdout",
     "output_type": "stream",
     "text": [
      "A.  ['a*a', '*e*e', 'e*e*a', 'a*', '*a']\n",
      "B.  ['elena']\n",
      "C.  ['aaa', 'rere', 'eeeea', 'a', 'p']\n",
      "D.  ['mere', 'elena']\n"
     ]
    }
   ],
   "source": [
    "cuvinte = ['ana', 'mere', 'elena','an','pa']\n",
    "# 1. Înlocuiți consoanele cu '*'.\n",
    "# răspuns: ['a*a','*e*e','e*e*a','a*','*a']\n",
    "vocale = ['a', 'e', 'i', 'o', 'u']\n",
    "cuvinte_aux = cuvinte.copy()\n",
    "for i in range(0, len(cuvinte)):\n",
    "    for litera in cuvinte_aux[i] :\n",
    "        if litera not in vocale :\n",
    "            cuvinte_aux[i] = cuvinte_aux[i].replace(litera, \"*\")\n",
    "\n",
    "print(\"A. \",cuvinte_aux)\n",
    "\n",
    "\n",
    "# 2. Determinați cuvintele cu cele mai multe vocale.\n",
    "# răspuns: elena\n",
    "\n",
    "cuvinte_vocale_maxim = []\n",
    "cuvant_maxim_vocale = -1\n",
    "for cuvant in cuvinte:\n",
    "    numar_vocale = 0\n",
    "    numar_vocale = sum(1 for litera in cuvant if litera in vocale)\n",
    "    if numar_vocale > cuvant_maxim_vocale:\n",
    "        cuvinte_vocale_maxim.clear()\n",
    "        cuvinte_vocale_maxim.append(cuvant)\n",
    "        cuvant_maxim_vocale = numar_vocale\n",
    "    elif numar_vocale == cuvant_maxim_vocale:\n",
    "        cuvinte_vocale_maxim.append(cuvant)\n",
    "print(\"B. \",cuvinte_vocale_maxim)\n",
    "\n",
    "\n",
    "# 3. Înlocuiți consoanele cu a treia literă a cuvântului. Cuvintele de 1 sau 2 litere vor fi înlocuite cu prima literă.\n",
    "# răspuns: ['aaa', 'rere', 'eeeea','a','p']\n",
    "\n",
    "cuvinte_aux = cuvinte.copy()\n",
    "for index_cuvant in range(0,len(cuvinte_aux)):\n",
    "    cuvant=cuvinte_aux[index_cuvant]\n",
    "    for litera in cuvant :\n",
    "        if litera not in vocale:\n",
    "            if len(cuvant)>=3 :\n",
    "                cuvant= cuvant.replace(litera,cuvant[2])\n",
    "            else :\n",
    "                cuvant=cuvant[0]\n",
    "    cuvinte_aux[index_cuvant]=cuvant\n",
    "print(\"C. \",cuvinte_aux)\n",
    "\n",
    "\n",
    "# 4. Determinați cuvintele ce conțin cel puțin 3 litere comune cu un cuvânt dat.\n",
    "# cuvant_dat = 'lenes' => răspuns: 'elena'\n",
    "# cuvant_dat = 'camere' => răspuns: 'mere','elena' -> pune doar mere\n",
    "\n",
    "cuvant_dat = input(\"Introdu cuvantul:\")\n",
    "cuvinte_comune = []\n",
    "for cuvant in cuvinte:\n",
    "    litere_gasite = []\n",
    "    for litera in range(0, len(cuvant)):\n",
    "        if (cuvant[litera] in cuvant_dat) :\n",
    "            litere_gasite.append(cuvant[litera])\n",
    "    if len(litere_gasite) >= 3:\n",
    "        cuvinte_comune.append(cuvant)\n",
    "print(\"D. \",cuvinte_comune)\n"
   ]
  },
  {
   "cell_type": "markdown",
   "id": "ffe4524f",
   "metadata": {},
   "source": [
    "7. (3p) Se da un dicționar ORAR, în care cheile sunt zilele săptămânii, iar valorile sunt materiile. Să se returneze:\n",
    "\t1. Zilele care nu conțin o materie dată.\n",
    "    2. Zilele cu cele mai multe ore.\n",
    "\t3. Zilele care conțin (dar nu coincid cu) o listă de materii dată.\n",
    "\t4. Zilele cu cele mai multe materii diferite.\n",
    "\t5. Toate perechile de zile A, B pentru care lista de materii a lui A este inclusă în (dar nu coincide cu) lista de materii a lui B.\n",
    "    6. Perechile de zile A,B care diferă prin cel puțin 2 materii.\n",
    "    \n",
    "\n",
    "\tIndicație: folosiți tipul de date *set*."
   ]
  },
  {
   "cell_type": "code",
   "execution_count": 7,
   "id": "1a295070",
   "metadata": {},
   "outputs": [
    {
     "name": "stdout",
     "output_type": "stream",
     "text": [
      "A)\n",
      "Miercuri\n",
      "B) ['Joi']\n",
      "C) ['Miercuri', 'Joi']\n",
      "D) ['Marti', 'Joi']\n",
      "E) [('Luni', 'Marti'), ('Luni', 'Joi'), ('Luni', 'Vineri'), ('Vineri', 'Marti')]\n",
      "Luni - Marti = ['Sport', 'Geografie']\n",
      "Luni - Miercuri = ['Religie', 'Engleză', 'Matematică']\n",
      "Luni - Joi = ['Istorie', 'Engleză']\n",
      "Marti - Miercuri = ['Sport', 'Religie', 'Engleză', 'Geografie', 'Matematică']\n",
      "Marti - Joi = ['Istorie', 'Geografie', 'Sport', 'Engleză']\n",
      "Miercuri - Joi = ['Istorie', 'Religie', 'Matematică']\n",
      "Miercuri - Vineri = ['Sport', 'Religie', 'Engleză', 'Matematică']\n",
      "Joi - Vineri = ['Istorie', 'Sport', 'Engleză']\n"
     ]
    }
   ],
   "source": [
    "ORAR = {\n",
    "    \"Luni\" : [\"Română\",\"Germană\",\"Germană\",\"Matematică\"],\n",
    "    \"Marti\": [\"Sport\",\"Matematică\",\"Germană\",\"Geografie\",\"Română\"],\n",
    "    \"Miercuri\": [\"Germană\", \"Germană\", \"Engleză\", \"Religie\", \"Română\"],\n",
    "    \"Joi\": [\"Matematică\",\"Germană\",\"Istorie\",\"Română\",\"Română\",\"Engleză\"],\n",
    "    \"Vineri\": [\"Sport\", \"Matematică\", \"Germană\", \"Română\"]\n",
    "}\n",
    "\n",
    "# A: Zilele care nu conțin o materie dată. \n",
    "print(\"A)\")\n",
    "materie = \"Matematică\"\n",
    "# Miercuri\n",
    "for zi in ORAR:\n",
    "    if materie not in ORAR[zi] :\n",
    "        print(zi)\n",
    "\n",
    "# B: Zilele cu cele mai multe ore.\n",
    "# Joi\n",
    "max_ore=-1\n",
    "zile_cu_maxim_ore=[]\n",
    "for zi in ORAR:\n",
    "    if len(ORAR[zi])>max_ore :\n",
    "        zile_cu_maxim_ore.clear()\n",
    "        max_ore=len(ORAR[zi])\n",
    "        zile_cu_maxim_ore.append(zi)\n",
    "    elif len(ORAR[zi])==max_ore :\n",
    "        zile_cu_maxim_ore.append(zi)\n",
    "print(\"B)\", zile_cu_maxim_ore)\n",
    "\n",
    "# C: Zilele care conțin (dar nu coincid cu) o listă de materii dată.\n",
    "# [\"Miercuri\",\"Joi\"]\n",
    "#materii=[\"Germană\", \"Română\",\"Engleză\"]\n",
    "\n",
    "materii=[\"Germană\", \"Română\",\"Engleză\"]\n",
    "zile_materii_cerute=[]\n",
    "for zile in ORAR :\n",
    "    exista_ore_cerute = True\n",
    "    for materie_ceruta in materii :\n",
    "        if materie_ceruta not in ORAR[zile]:\n",
    "            exista_ore_cerute=False\n",
    "            break\n",
    "    if exista_ore_cerute == True :\n",
    "        zile_materii_cerute.append(zile)\n",
    "print(\"C)\",zile_materii_cerute)\n",
    "\n",
    "\n",
    "# D: Zilele cu cele mai multe materii diferite.\n",
    "# [Marti\", Joi\"]\n",
    "maxim_numar_materii_diferite=-1\n",
    "zile_materii_diferite=[]\n",
    "for zi in ORAR :\n",
    "    set_materii=set(ORAR[zi])\n",
    "    if len(set_materii) > maxim_numar_materii_diferite :\n",
    "        zile_materii_diferite.clear()\n",
    "        maxim_numar_materii_diferite = len(set_materii)\n",
    "        zile_materii_diferite.append(zi)\n",
    "    elif len(set_materii) == maxim_numar_materii_diferite :\n",
    "        zile_materii_diferite.append(zi)\n",
    "print(\"D)\",zile_materii_diferite)\n",
    "\n",
    "\n",
    "# E: Toate perechile de zile A, B pentru care lista de materii a lui A este inclusă în (dar nu coincide cu) \n",
    "# lista de materii a lui B.\n",
    "# [(\"Luni\",\"Marti\"),(\"Luni\",\"Joi\"),(\"Luni\",\"Vineri\"), (\"Vineri\",\"Marti\")]\n",
    "perechi_zile=[]\n",
    "for zi_A in ORAR:\n",
    "    for zi_B in ORAR :\n",
    "        if zi_A != zi_B :\n",
    "            set_A=set(ORAR[zi_A])\n",
    "            set_B=set(ORAR[zi_B])\n",
    "            if set_A.issubset(set_B) :\n",
    "                pereche=(zi_A,zi_B)\n",
    "                perechi_zile.append(pereche)\n",
    "print(\"E)\",perechi_zile)\n",
    "\n",
    "\n",
    "# F:Perechile de zile A,B care diferă prin cel puțin 2 materii. \n",
    "# \"Marți\" -  Luni\" = [\"Sport\",\"Georgrafie\"],\n",
    "# \"Miercuri\" - \"Luni\" = [\"Engleză\", \"Religie\"] ,\n",
    "# \"Joi\" - \"Luni\" = [\"Istorie\",\"Engleză\"]\n",
    "# \"Miercuri\" - \"Marti\" = [\"Engleză\", \"Religie\"]\n",
    "# \"Miercuri\" - \"Vineri\" = [\"Engleză\", \"Religie\"]\n",
    "# \"Joi\"- \"Marti\" = [\"Istorie\",\"Engleză\"]\n",
    "# \"Joi\" - \"Miercuri\" = [\"Istorie\",\"Română\"]\n",
    "# etc.\n",
    "\n",
    "perechi_zile=set()\n",
    "for zi_A in ORAR :\n",
    "    for zi_B in ORAR :\n",
    "        if zi_A != zi_B :\n",
    "            pair = tuple(sorted([zi_A, zi_B]))\n",
    "            set_A = set(ORAR[zi_A])\n",
    "            set_B = set(ORAR[zi_B])\n",
    "            diferenta = list(set_A.symmetric_difference(set_B))\n",
    "            if len(diferenta) >= 2 and pair not in perechi_zile:\n",
    "                perechi_zile.add(pair)\n",
    "                print(zi_A, \"-\", zi_B, \"=\", diferenta)"
   ]
  },
  {
   "cell_type": "code",
   "execution_count": null,
   "id": "24839522",
   "metadata": {},
   "outputs": [],
   "source": []
  }
 ],
 "metadata": {
  "kernelspec": {
   "display_name": "Python 3 (ipykernel)",
   "language": "python",
   "name": "python3"
  },
  "language_info": {
   "codemirror_mode": {
    "name": "ipython",
    "version": 3
   },
   "file_extension": ".py",
   "mimetype": "text/x-python",
   "name": "python",
   "nbconvert_exporter": "python",
   "pygments_lexer": "ipython3",
   "version": "3.11.5"
  }
 },
 "nbformat": 4,
 "nbformat_minor": 5
}
