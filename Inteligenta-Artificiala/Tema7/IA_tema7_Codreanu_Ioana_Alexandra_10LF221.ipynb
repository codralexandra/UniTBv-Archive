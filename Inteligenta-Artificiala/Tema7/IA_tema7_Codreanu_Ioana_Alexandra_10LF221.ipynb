{
  "cells": [
    {
      "cell_type": "markdown",
      "id": "92a96f29",
      "metadata": {
        "id": "92a96f29"
      },
      "source": [
        "# Tema 7: Perceptron multistrat antrenat cu Pytorch"
      ]
    },
    {
      "cell_type": "markdown",
      "id": "c4977baf",
      "metadata": {
        "id": "c4977baf"
      },
      "source": [
        "## Descrierea temei\n",
        "Implementati un model de perceptron multistrat pentru clasificarea celor 10 clase din setul [Fashion MNIST](https://www.kaggle.com/datasets/zalando-research/fashionmnist).\n",
        "\n",
        "Puteti reutiliza si adapta cod din exemplul Pytorch pentru regresia logistica binara, din tema 5 (săptămâna 19 noiembrie - 25 noiembrie, de pe platforma elearning).\n",
        "\n",
        "Modificarile pe care trebuie sa le aveti in vedere sunt:\n",
        "1. In definirea lui Dataset nu se mai face filtrare dupa clasele pozitive si negative; se lasa toate datele\n",
        "1. Functia de eroare `loss_fn` este `torch.nn.CrossEntropyLoss`."
      ]
    },
    {
      "cell_type": "code",
      "source": [
        "from google.colab import drive\n",
        "drive.mount('/content/drive')"
      ],
      "metadata": {
        "colab": {
          "base_uri": "https://localhost:8080/"
        },
        "id": "cInX2STZp8dY",
        "outputId": "8965bcdc-7203-4aa3-a0ad-9eb57775d574"
      },
      "id": "cInX2STZp8dY",
      "execution_count": null,
      "outputs": [
        {
          "output_type": "stream",
          "name": "stdout",
          "text": [
            "Mounted at /content/drive\n"
          ]
        }
      ]
    },
    {
      "cell_type": "markdown",
      "metadata": {
        "id": "uSrk0O0UpHK1"
      },
      "source": [
        "\n",
        "\n",
        "## Suplimentar (si obligatoriu)\n",
        "1. Pe un alt grafic sa se prezinte: accuratetea pe setul de antrenare si pe setul de testare, la finalul fiecarei epoci (ambele scoruri pe acelasi grafic, cu legenda).\n",
        "1. Sa se calculeze si afiseze matricea de confuzie (puteti folosi [scikit learn](https://scikit-learn.org/stable/modules/generated/sklearn.metrics.confusion_matrix.html)).\n",
        "\n",
        "## Suplimentar (optional)\n",
        "\n",
        "1. Pe un grafic sa se prezinte loss-ul la finalul fiecarei epoci, pe setul de antrenare. Functia de loss este aceeasi ca in logistic regression, cazul multinomial\n",
        "1. Implementati modificare de ponderi folosind metoda momentum.\n",
        "1. Matricea de confuzie ca procent + colorare heatmap."
      ],
      "id": "uSrk0O0UpHK1"
    },
    {
      "cell_type": "markdown",
      "id": "e6624dde",
      "metadata": {
        "id": "e6624dde"
      },
      "source": [
        "# Predarea temei\n",
        "\n",
        "Predarea acestei aplicatii se va face  in săptămâna  **18-22 decembrie**, în seara dinaintea laboratorului, ora 20, in cadrul temei 7 de pe platforma.\n",
        "Cerinte si precizari:\n",
        "1. Studentii se pot consulta intre ei, dar rezolvarile vor fi individuale. Necunoasterea codului prezentat inseamna nota 1 pentru tema curenta.\n",
        "\n",
        "2. Se se faca adnotari de tipuri pentru variabilele folosite, parametrii de intrare ai functiilor si tipurile de retur. Neindeplinirea acestei cerinte duce la injumatatirea notei."
      ]
    },
    {
      "cell_type": "markdown",
      "metadata": {
        "id": "9Di7ABQFpHK2"
      },
      "source": [
        "# Implementarea temei"
      ],
      "id": "9Di7ABQFpHK2"
    },
    {
      "cell_type": "markdown",
      "source": [
        "1. Importarea pachetelor necesare:"
      ],
      "metadata": {
        "id": "nV7xMli9qd_H"
      },
      "id": "nV7xMli9qd_H"
    },
    {
      "cell_type": "code",
      "execution_count": null,
      "metadata": {
        "id": "YD2Rzmi3pHK2"
      },
      "outputs": [],
      "source": [
        "import torch\n",
        "import numpy as np\n",
        "import torch.nn as nn\n",
        "from torch.utils.data import Dataset, DataLoader\n",
        "import pandas as pd\n",
        "import os\n",
        "from typing import Tuple\n",
        "import matplotlib.pyplot as plt\n",
        "from torchsummary import summary\n",
        "from sklearn.metrics import confusion_matrix\n",
        "from typing import Optional, Union"
      ],
      "id": "YD2Rzmi3pHK2"
    },
    {
      "cell_type": "markdown",
      "source": [
        "2. Definim clasa Dataset"
      ],
      "metadata": {
        "id": "dnbCsdqeqjEb"
      },
      "id": "dnbCsdqeqjEb"
    },
    {
      "cell_type": "code",
      "execution_count": null,
      "metadata": {
        "id": "5gEEAZQJpHK2"
      },
      "outputs": [],
      "source": [
        "class FashionMNISTDataset(Dataset):\n",
        "    def __init__(self, path_csv):\n",
        "        # Explicitly specify data types and skip the header row\n",
        "        _all_items = pd.read_csv(path_csv, header=None, skiprows=1, dtype='float32').values\n",
        "\n",
        "        _y = _all_items[:, 0]\n",
        "        _x = _all_items[:, 1:]\n",
        "        _x = _x / 255.0  # Convert to float before division\n",
        "\n",
        "        self.x = torch.Tensor(_x)\n",
        "        self.y = torch.Tensor(_y).long()  # Assuming labels are integers\n",
        "\n",
        "    def __len__(self):\n",
        "        return len(self.x)\n",
        "\n",
        "    def __getitem__(self, idx):\n",
        "        return self.x[idx], self.y[idx]\n"
      ],
      "id": "5gEEAZQJpHK2"
    },
    {
      "cell_type": "markdown",
      "source": [
        "3. Definirea clasei pentru Multilevel Perceptron (MLP):"
      ],
      "metadata": {
        "id": "kTSsqw0QrEnD"
      },
      "id": "kTSsqw0QrEnD"
    },
    {
      "cell_type": "code",
      "source": [
        "class MLP(nn.Module):\n",
        "    def __init__(self, input_size: int = 784, hidden_size: int = 256, output_size: int = 10):\n",
        "        super(MLP, self).__init__()\n",
        "        self.input_size = input_size\n",
        "        self.hidden_size = hidden_size\n",
        "        self.output_size = output_size\n",
        "\n",
        "        self.fc1 = nn.Linear(input_size, hidden_size)\n",
        "        self.relu = nn.ReLU()\n",
        "        self.fc2 = nn.Linear(hidden_size, output_size)\n",
        "\n",
        "    def forward(self, x: torch.Tensor) -> torch.Tensor:\n",
        "        x = self.fc1(x)\n",
        "        x = self.relu(x)\n",
        "        x = self.fc2(x)\n",
        "        return x"
      ],
      "metadata": {
        "id": "iyL1aXmKu6P1"
      },
      "id": "iyL1aXmKu6P1",
      "execution_count": null,
      "outputs": []
    },
    {
      "cell_type": "markdown",
      "source": [
        "4. Definirea functei de testare:"
      ],
      "metadata": {
        "id": "8ERw7ls0vdb5"
      },
      "id": "8ERw7ls0vdb5"
    },
    {
      "cell_type": "code",
      "source": [
        "def test_multinomial(model: nn.Module, loader: DataLoader, device: torch.device) -> float:\n",
        "    model.eval()\n",
        "    correctly_classified = 0\n",
        "    total_items = 0\n",
        "\n",
        "    with torch.no_grad():\n",
        "        for x, y in loader:\n",
        "            x, y = x.to(device), y.to(device)\n",
        "            logits = model(x)\n",
        "            _, predicted_classes = torch.max(logits, 1)\n",
        "            correctly_classified += torch.eq(predicted_classes, y).sum().item()\n",
        "            total_items += len(x)\n",
        "\n",
        "    accuracy = correctly_classified / total_items\n",
        "    return accuracy"
      ],
      "metadata": {
        "id": "XON-wWYYvfih"
      },
      "id": "XON-wWYYvfih",
      "execution_count": null,
      "outputs": []
    },
    {
      "cell_type": "markdown",
      "source": [
        "5. Setarea dispozitivului:"
      ],
      "metadata": {
        "id": "ZQAmv-oevlD4"
      },
      "id": "ZQAmv-oevlD4"
    },
    {
      "cell_type": "code",
      "source": [
        "device = torch.device(\"cuda\" if torch.cuda.is_available() else \"cpu\")"
      ],
      "metadata": {
        "id": "0Xw-YbCyvnOd"
      },
      "id": "0Xw-YbCyvnOd",
      "execution_count": null,
      "outputs": []
    },
    {
      "cell_type": "markdown",
      "source": [
        "6. Crearea seturilor de date si incarcarea in Dataloader:"
      ],
      "metadata": {
        "id": "g3ExrB8Wvv90"
      },
      "id": "g3ExrB8Wvv90"
    },
    {
      "cell_type": "code",
      "source": [
        "train_ds = FashionMNISTDataset('/content/drive/MyDrive/Facultate/AN2/IA/lab8/data/fashion-mnist_train.csv')\n",
        "test_ds = FashionMNISTDataset('/content/drive/MyDrive/Facultate/AN2/IA/lab8/data/fashion-mnist_test.csv')\n",
        "batch_size = 32\n",
        "train_loader = DataLoader(train_ds, batch_size=batch_size, shuffle=True)\n",
        "test_loader = DataLoader(test_ds, batch_size=batch_size)"
      ],
      "metadata": {
        "id": "QkvI34sovyuJ"
      },
      "id": "QkvI34sovyuJ",
      "execution_count": null,
      "outputs": []
    },
    {
      "cell_type": "markdown",
      "source": [
        "7. Initializarea modelului:"
      ],
      "metadata": {
        "id": "86pFW7Y8v1_P"
      },
      "id": "86pFW7Y8v1_P"
    },
    {
      "cell_type": "code",
      "source": [
        "model = MLP(input_size=784, hidden_size=256, output_size=10).to(device)"
      ],
      "metadata": {
        "id": "reAFcxHOv4Ga"
      },
      "id": "reAFcxHOv4Ga",
      "execution_count": null,
      "outputs": []
    },
    {
      "cell_type": "markdown",
      "source": [
        "8. Model summary:"
      ],
      "metadata": {
        "id": "cznXpb7XwpN4"
      },
      "id": "cznXpb7XwpN4"
    },
    {
      "cell_type": "code",
      "source": [
        "summary(model, (784,))"
      ],
      "metadata": {
        "colab": {
          "base_uri": "https://localhost:8080/"
        },
        "id": "QqWB8xhgwuCB",
        "outputId": "ab2b34d8-a6aa-433e-d922-08557ceba086"
      },
      "id": "QqWB8xhgwuCB",
      "execution_count": null,
      "outputs": [
        {
          "output_type": "stream",
          "name": "stdout",
          "text": [
            "----------------------------------------------------------------\n",
            "        Layer (type)               Output Shape         Param #\n",
            "================================================================\n",
            "            Linear-1                  [-1, 256]         200,960\n",
            "              ReLU-2                  [-1, 256]               0\n",
            "            Linear-3                   [-1, 10]           2,570\n",
            "================================================================\n",
            "Total params: 203,530\n",
            "Trainable params: 203,530\n",
            "Non-trainable params: 0\n",
            "----------------------------------------------------------------\n",
            "Input size (MB): 0.00\n",
            "Forward/backward pass size (MB): 0.00\n",
            "Params size (MB): 0.78\n",
            "Estimated Total Size (MB): 0.78\n",
            "----------------------------------------------------------------\n"
          ]
        }
      ]
    },
    {
      "cell_type": "markdown",
      "source": [
        "9. Definirea optimizatorului si a functiei de pierdere:"
      ],
      "metadata": {
        "id": "NoQcWg_Lwup1"
      },
      "id": "NoQcWg_Lwup1"
    },
    {
      "cell_type": "code",
      "source": [
        "optimizer = torch.optim.SGD(model.parameters(), lr=0.001, weight_decay=1e-3)\n",
        "loss_fn = torch.nn.CrossEntropyLoss()"
      ],
      "metadata": {
        "id": "pZrkw6crw0AJ"
      },
      "id": "pZrkw6crw0AJ",
      "execution_count": null,
      "outputs": []
    },
    {
      "cell_type": "markdown",
      "source": [
        "10. Antrenarea modelului:"
      ],
      "metadata": {
        "id": "fF3bp1r3w0gp"
      },
      "id": "fF3bp1r3w0gp"
    },
    {
      "cell_type": "code",
      "source": [
        "epochs = 30\n",
        "losses: list[float] = []\n",
        "accuracies: list[float] = []\n",
        "\n",
        "for epoch in range(epochs):\n",
        "    model.train()\n",
        "    epoch_loss = 0\n",
        "    total_items = 0\n",
        "\n",
        "    for x, y in train_loader:\n",
        "        x, y = x.to(device), y.to(device)\n",
        "\n",
        "        optimizer.zero_grad()\n",
        "        y_hat = model(x)\n",
        "\n",
        "        loss = loss_fn(y_hat, y)\n",
        "        epoch_loss += loss.item() * len(x)\n",
        "        total_items += len(x)\n",
        "\n",
        "        loss.backward()\n",
        "        optimizer.step()\n",
        "\n",
        "    epoch_loss /= total_items\n",
        "    losses.append(epoch_loss)\n",
        "\n",
        "    # Evaluarea modelului pe setul de testare\n",
        "    acc_test = test_multinomial(model, test_loader, device)\n",
        "    accuracies.append(acc_test)\n",
        "\n",
        "    print(f'Epoca: {epoch+1}/{epochs}, Loss: {epoch_loss:.7f}, Acuratete pe test: {acc_test * 100:.4f}%')\n",
        "\n",
        "final_accuracy = test_multinomial(model, test_loader, device)\n",
        "print(f'Acuratetea modelului antrenat: {final_accuracy * 100}%')"
      ],
      "metadata": {
        "colab": {
          "base_uri": "https://localhost:8080/"
        },
        "id": "9mWMyitiw5h1",
        "outputId": "46bd5db0-dc54-451e-f7d2-55b7c41077e5"
      },
      "id": "9mWMyitiw5h1",
      "execution_count": null,
      "outputs": [
        {
          "output_type": "stream",
          "name": "stdout",
          "text": [
            "Epoca: 1/30, Loss: 1.8276970, Acuratete pe test: 62.3000%\n",
            "Epoca: 2/30, Loss: 1.1944741, Acuratete pe test: 66.9500%\n",
            "Epoca: 3/30, Loss: 0.9495995, Acuratete pe test: 69.3000%\n",
            "Epoca: 4/30, Loss: 0.8375908, Acuratete pe test: 72.3800%\n",
            "Epoca: 5/30, Loss: 0.7709281, Acuratete pe test: 74.3900%\n",
            "Epoca: 6/30, Loss: 0.7241106, Acuratete pe test: 75.7600%\n",
            "Epoca: 7/30, Loss: 0.6883160, Acuratete pe test: 77.2700%\n",
            "Epoca: 8/30, Loss: 0.6593943, Acuratete pe test: 78.3700%\n",
            "Epoca: 9/30, Loss: 0.6354979, Acuratete pe test: 79.4600%\n",
            "Epoca: 10/30, Loss: 0.6155841, Acuratete pe test: 79.9900%\n",
            "Epoca: 11/30, Loss: 0.5987188, Acuratete pe test: 80.5000%\n",
            "Epoca: 12/30, Loss: 0.5841939, Acuratete pe test: 80.9100%\n",
            "Epoca: 13/30, Loss: 0.5715532, Acuratete pe test: 81.4300%\n",
            "Epoca: 14/30, Loss: 0.5605359, Acuratete pe test: 81.4000%\n",
            "Epoca: 15/30, Loss: 0.5507374, Acuratete pe test: 81.8400%\n",
            "Epoca: 16/30, Loss: 0.5422365, Acuratete pe test: 82.0100%\n",
            "Epoca: 17/30, Loss: 0.5343457, Acuratete pe test: 82.3900%\n",
            "Epoca: 18/30, Loss: 0.5273633, Acuratete pe test: 82.7000%\n",
            "Epoca: 19/30, Loss: 0.5208800, Acuratete pe test: 82.8600%\n",
            "Epoca: 20/30, Loss: 0.5151425, Acuratete pe test: 82.9200%\n",
            "Epoca: 21/30, Loss: 0.5096387, Acuratete pe test: 83.0800%\n",
            "Epoca: 22/30, Loss: 0.5045033, Acuratete pe test: 83.2600%\n",
            "Epoca: 23/30, Loss: 0.4999634, Acuratete pe test: 83.3600%\n",
            "Epoca: 24/30, Loss: 0.4956460, Acuratete pe test: 83.3700%\n",
            "Epoca: 25/30, Loss: 0.4917039, Acuratete pe test: 83.5800%\n",
            "Epoca: 26/30, Loss: 0.4879376, Acuratete pe test: 83.8400%\n",
            "Epoca: 27/30, Loss: 0.4844379, Acuratete pe test: 83.9100%\n",
            "Epoca: 28/30, Loss: 0.4810005, Acuratete pe test: 84.0300%\n",
            "Epoca: 29/30, Loss: 0.4775587, Acuratete pe test: 83.6700%\n",
            "Epoca: 30/30, Loss: 0.4748302, Acuratete pe test: 83.9800%\n",
            "Acuratetea modelului antrenat: 83.98%\n"
          ]
        }
      ]
    },
    {
      "cell_type": "markdown",
      "source": [
        "11. Afisarea evolutiei pierderii in timpul antrenarii:"
      ],
      "metadata": {
        "id": "2UGFF9cAw84z"
      },
      "id": "2UGFF9cAw84z"
    },
    {
      "cell_type": "code",
      "source": [
        "plt.plot(losses)\n",
        "plt.xlabel('Epoca')\n",
        "plt.ylabel('Eroare')\n",
        "plt.title(f'Valoarea funcției de eroare în timpul instruirii')\n",
        "plt.show()"
      ],
      "metadata": {
        "colab": {
          "base_uri": "https://localhost:8080/",
          "height": 472
        },
        "id": "ooM4iGmkxMSb",
        "outputId": "142227c5-45f4-4962-bf22-00121e95bed3"
      },
      "id": "ooM4iGmkxMSb",
      "execution_count": null,
      "outputs": [
        {
          "output_type": "display_data",
          "data": {
            "text/plain": [
              "<Figure size 640x480 with 1 Axes>"
            ],
            "image/png": "[encoded data removed]"
          },
          "metadata": {}
        }
      ]
    },
    {
      "cell_type": "markdown",
      "source": [
        "12. Afisarea evolutiei acuratetii pe setul de testare:"
      ],
      "metadata": {
        "id": "elB_d6jOxOMk"
      },
      "id": "elB_d6jOxOMk"
    },
    {
      "cell_type": "code",
      "source": [
        "plt.plot(accuracies)\n",
        "plt.xlabel('Epoca')\n",
        "plt.ylabel('Acuratete pe setul de testare')\n",
        "plt.title(f'Acuratetea pe setul de testare pentru MLP')\n",
        "plt.show()"
      ],
      "metadata": {
        "colab": {
          "base_uri": "https://localhost:8080/",
          "height": 472
        },
        "id": "x35-vZusxRan",
        "outputId": "03204549-3ce1-4948-f504-c6da4baf3a1c"
      },
      "id": "x35-vZusxRan",
      "execution_count": null,
      "outputs": [
        {
          "output_type": "display_data",
          "data": {
            "text/plain": [
              "<Figure size 640x480 with 1 Axes>"
            ],
            "image/png": "[encoded data removed]"
          },
          "metadata": {}
        }
      ]
    },
    {
      "cell_type": "markdown",
      "source": [
        "13. Matricea de confuzie:"
      ],
      "metadata": {
        "id": "oBVGlgOfxVyn"
      },
      "id": "oBVGlgOfxVyn"
    },
    {
      "cell_type": "code",
      "source": [
        "def print_confusion_matrix(model: torch.nn.Module, loader: DataLoader, device: torch.device, num_classes: int = 10, normalize: Optional[Union[str, None]] = None) -> np.ndarray:\n",
        "    model.eval()\n",
        "    y_true = []\n",
        "    y_pred = []\n",
        "\n",
        "    with torch.no_grad():\n",
        "        for inputs, labels in loader:\n",
        "            inputs, labels = inputs.to(device), labels.to(device)\n",
        "            outputs = model(inputs)\n",
        "            _, predicted = torch.max(outputs, 1)\n",
        "\n",
        "            y_true.extend(labels.cpu().numpy())\n",
        "            y_pred.extend(predicted.cpu().numpy())\n",
        "\n",
        "    # Create confusion matrix\n",
        "    cm:np.ndarray = confusion_matrix(y_true, y_pred, labels=np.arange(num_classes), normalize=normalize)\n",
        "\n",
        "    # Display confusion matrix\n",
        "    print(\"Confusion Matrix:\")\n",
        "    print(cm)\n",
        "    return cm\n",
        "\n",
        "cm:np.ndarray = print_confusion_matrix(model, test_loader, device, num_classes=10)"
      ],
      "metadata": {
        "colab": {
          "base_uri": "https://localhost:8080/"
        },
        "id": "A0Liiu7xxeNU",
        "outputId": "db2112e7-e789-4c14-805f-cc1badf7717b"
      },
      "id": "A0Liiu7xxeNU",
      "execution_count": null,
      "outputs": [
        {
          "output_type": "stream",
          "name": "stdout",
          "text": [
            "Confusion Matrix:\n",
            "[[796  10  13  51   2   3 108   0  17   0]\n",
            " [  0 953  16  23   1   0   7   0   0   0]\n",
            " [ 10   2 768   8 113   0  84   0  15   0]\n",
            " [ 36  23  17 866  27   0  29   0   2   0]\n",
            " [  0   2  95  35 770   0  95   0   3   0]\n",
            " [  1   1   0   1   0 887   0  57  10  43]\n",
            " [147   7 108  32  75   1 609   0  21   0]\n",
            " [  0   0   0   0   0  40   0 870   0  90]\n",
            " [  1   0  10   6   5   5  18   6 947   2]\n",
            " [  0   0   0   0   0  15   0  52   1 932]]\n"
          ]
        }
      ]
    }
  ],
  "metadata": {
    "kernelspec": {
      "display_name": "Python 3 (ipykernel)",
      "language": "python",
      "name": "python3"
    },
    "language_info": {
      "codemirror_mode": {
        "name": "ipython",
        "version": 3
      },
      "file_extension": ".py",
      "mimetype": "text/x-python",
      "name": "python",
      "nbconvert_exporter": "python",
      "pygments_lexer": "ipython3",
      "version": "3.11.5"
    },
    "toc": {
      "base_numbering": 1,
      "nav_menu": {},
      "number_sections": true,
      "sideBar": true,
      "skip_h1_title": false,
      "title_cell": "Table of Contents",
      "title_sidebar": "Contents",
      "toc_cell": false,
      "toc_position": {
        "height": "calc(100% - 180px)",
        "left": "10px",
        "top": "150px",
        "width": "167.7px"
      },
      "toc_section_display": true,
      "toc_window_display": false
    },
    "varInspector": {
      "cols": {
        "lenName": 16,
        "lenType": 16,
        "lenVar": 40
      },
      "kernels_config": {
        "python": {
          "delete_cmd_postfix": "",
          "delete_cmd_prefix": "del ",
          "library": "var_list.py",
          "varRefreshCmd": "print(var_dic_list())"
        },
        "r": {
          "delete_cmd_postfix": ") ",
          "delete_cmd_prefix": "rm(",
          "library": "var_list.r",
          "varRefreshCmd": "cat(var_dic_list()) "
        }
      },
      "types_to_exclude": [
        "module",
        "function",
        "builtin_function_or_method",
        "instance",
        "_Feature"
      ],
      "window_display": false
    },
    "colab": {
      "provenance": []
    }
  },
  "nbformat": 4,
  "nbformat_minor": 5
}